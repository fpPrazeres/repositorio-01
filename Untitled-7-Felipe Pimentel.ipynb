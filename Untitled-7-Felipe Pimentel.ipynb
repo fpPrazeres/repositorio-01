{
 "cells": [
  {
   "cell_type": "code",
   "execution_count": null,
   "metadata": {},
   "outputs": [],
   "source": [
    "#6) Faça um Programa que peça 2 números inteiros e um número real. Calcule e mostre:\n",
    "\n",
    "valor1 = int(input(\"Digite o primeiro valor\"))\n",
    "valor2 = float(input(\"Digite o segundo valor\"))\n",
    "valor3 = float(input(\"Digite o terceiro valor\"))\n",
    "# Letra A) O produto do dobro do primeiro com metade do segundo.\n",
    "resultado = (2 * valor1) * (valor2 / 2)\n",
    "print(\"O resultado é \", resultado)\n",
    "# Letra B) A soma do triplo do primeiro com o terceiro. o terceiro elevado ao cubo.\n",
    "soma = 3 * valor1 + (valor3**3)\n",
    "print(\"O resultado é\", soma)\n"
   ]
  },
  {
   "cell_type": "code",
   "execution_count": null,
   "metadata": {},
   "outputs": [],
   "source": [
    "#7) Faça um Programa que peça dois números e imprima o maior deles.\n",
    "\n",
    "n1 = float(input(\"Digite o primeiro valor\"))\n",
    "n2 = float(input(\"Digite o segundo valor\"))\n",
    "if(n1 > n2):\n",
    "    print(\"O Maior numero é \", n1)\n",
    "elif(n1 == n2):\n",
    "    print(\"Os dois numeros sao iguais\")\n",
    "else:\n",
    "    print(\"O maior numero é\", n2)\n"
   ]
  },
  {
   "cell_type": "code",
   "execution_count": null,
   "metadata": {},
   "outputs": [],
   "source": [
    "#8) Faça um Programa que peça um valor e mostre na tela se o valor é positivo ou negativo.\n",
    "\n",
    "valor1 = float(input(\"Digite um valor\"))\n",
    "if valor1 > 0:\n",
    "    print(\"Positivo\")\n",
    "elif valor1 == 0:\n",
    "    print(\"Neutro\")\n",
    "else:\n",
    "    print(\"Negativo\")"
   ]
  },
  {
   "cell_type": "code",
   "execution_count": null,
   "metadata": {},
   "outputs": [],
   "source": [
    "#9) Faça um programa para a leitura de duas notas parciais de um aluno. O programa deve calcular a média alcançada por aluno e apresentar o resultado \"Aprovado\" ou \"Reprovado\". Considere que a escola adota média 7,00.\n",
    "\n",
    "nota1 = float(input('Digite a 1º nota: '))\n",
    "nota2 = float(input('Digite a 2º nota: '))\n",
    "media = (nota1 + nota2) / 2\n",
    "print(\" A média é:\")\n",
    "print(\"1º nota:\", nota1)\n",
    "print(\"2º nota:\", nota2)\n",
    "print(\"A média das notas é:\", media)\n",
    "if(media >= 7):\n",
    "    print(\"Aprovado\")\n",
    "else:\n",
    "    print(\"Reprovado\")\n"
   ]
  },
  {
   "cell_type": "code",
   "execution_count": null,
   "metadata": {},
   "outputs": [],
   "source": [
    "#10) Faça um Programa que leia três números e mostre o maior deles.\n",
    "\n",
    "a = float(input('Digite o primeiro número: '))\n",
    "b = float(input('Digite o segundo número: '))\n",
    "c = float(input('Digite o terceiro número: '))\n",
    "# Encontra o maior valor\n",
    "if a >= b and a >= c:\n",
    "    maior = a\n",
    "elif b >= a and b >= c:\n",
    "    maior = b\n",
    "else:\n",
    "    maior = c\n",
    "print('O maior valor entre', a, b, 'e', c, 'é', maior)\n"
   ]
  }
 ],
 "metadata": {
  "kernelspec": {
   "display_name": "Python 3",
   "language": "python",
   "name": "python3"
  },
  "language_info": {
   "name": "python",
   "version": "3.11.9"
  }
 },
 "nbformat": 4,
 "nbformat_minor": 2
}
