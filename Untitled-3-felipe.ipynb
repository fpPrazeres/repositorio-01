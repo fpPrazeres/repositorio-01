{
 "cells": [
  {
   "cell_type": "code",
   "execution_count": 3,
   "metadata": {},
   "outputs": [
    {
     "name": "stdout",
     "output_type": "stream",
     "text": [
      "Olá Felipe\n"
     ]
    }
   ],
   "source": [
    "print(\"Olá, Felipe!\")"
   ]
  },
  {
   "cell_type": "markdown",
   "metadata": {},
   "source": [
    "Comando print(\" mostra o que foi escrito. \")\n",
    "\n",
    "Conhecendo variáriaveis\n",
    "\n"
   ]
  },
  {
   "cell_type": "code",
   "execution_count": null,
   "metadata": {},
   "outputs": [
    {
     "name": "stdout",
     "output_type": "stream",
     "text": [
      "Seu nome é: Felipe\n",
      "E sua idade é: 45 anos\n",
      "Seu email é: felipepp@gmail.com\n"
     ]
    }
   ],
   "source": [
    "nome= \"Felipe\"\n",
    "idade = 45\n",
    "email = 'felipepp.com'\n",
    "print(\"Seu nome é:\",nome)\n",
    "print(\"E sua idade é:\",idade,\"anos\")\n",
    "print(\"Seu email é:\", email) "
   ]
  },
  {
   "cell_type": "code",
   "execution_count": 5,
   "metadata": {},
   "outputs": [
    {
     "name": "stdout",
     "output_type": "stream",
     "text": [
      "Seu nome é: Felipe\n",
      "E sua idade é: 45 anos\n",
      "Seu email é: felipepp@gmail.com\n",
      "Sua altura é: 1.85\n"
     ]
    }
   ],
   "source": [
    "nome= \"Felipe\"\n",
    "idade = 45\n",
    "altura= 1.85\n",
    "dev= True\n",
    "email = 'felipepp@gmail.com'\n",
    "print(\"Seu nome é:\",nome)\n",
    "print(\"E sua idade é:\",idade,\"anos\")\n",
    "print(\"Seu email é:\", email) \n",
    "print('Sua altura é:',altura)"
   ]
  },
  {
   "cell_type": "code",
   "execution_count": 3,
   "metadata": {},
   "outputs": [
    {
     "name": "stdout",
     "output_type": "stream",
     "text": [
      "Valor de A: 3\n",
      "Valor de B: 5\n",
      "O valor da Soma de A: 3 + 5 é igual a: 8\n"
     ]
    }
   ],
   "source": [
    "a = 3\n",
    "b = 5\n",
    "soma = a + b\n",
    "print(\"Valor de A:\",a)\n",
    "print(\"Valor de B:\",b)\n",
    "print('O valor da Soma de A:', a, \"+\", b, \"é igual a:\",soma)"
   ]
  }
 ],
 "metadata": {
  "kernelspec": {
   "display_name": "Python 3",
   "language": "python",
   "name": "python3"
  },
  "language_info": {
   "codemirror_mode": {
    "name": "ipython",
    "version": 3
   },
   "file_extension": ".py",
   "mimetype": "text/x-python",
   "name": "python",
   "nbconvert_exporter": "python",
   "pygments_lexer": "ipython3",
   "version": "3.12.2"
  }
 },
 "nbformat": 4,
 "nbformat_minor": 2
}
