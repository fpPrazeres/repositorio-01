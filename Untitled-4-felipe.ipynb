{
 "cells": [
  {
   "cell_type": "code",
   "execution_count": null,
   "metadata": {},
   "outputs": [],
   "source": [
    "\"\"\"Comentando código\n",
    "Comentando código\n",
    "Comentando código\n",
    "Comentando código\n",
    "Comentando código\n",
    "Comentando código\n",
    "\"\"\"\n",
    "\n",
    "#comentario"
   ]
  },
  {
   "cell_type": "code",
   "execution_count": 6,
   "metadata": {},
   "outputs": [
    {
     "name": "stdout",
     "output_type": "stream",
     "text": [
      "Valor da idade01: 23.0\n",
      "Valor da idade02: 3.0\n",
      "A Soma das idades: 23.0 + 3.0 é igual a: 26.0\n"
     ]
    }
   ],
   "source": [
    "idade01 = float(input(\"Digite a nota do PRIMEIRA idade: \"))\n",
    "idade02 = float(input(\"Digite a nota do SEGUNDA idade: \"))\n",
    "\n",
    "soma = idade01 + idade02\n",
    "print(\"Valor da idade01:\",idade01)\n",
    "print(\"Valor da idade02:\",idade02)\n",
    "print('A Soma das idades:', idade01, \"+\", idade02, \"é igual a:\",soma)"
   ]
  },
  {
   "cell_type": "code",
   "execution_count": 7,
   "metadata": {},
   "outputs": [
    {
     "name": "stdout",
     "output_type": "stream",
     "text": [
      "Valor da idade01: 40.0\n",
      "Valor da idade02: 10.0\n",
      "A Subtração das idades: 40.0 - 10.0 é igual a: 30.0\n"
     ]
    }
   ],
   "source": [
    "#subtração\n",
    "\n",
    "idade01 = float(input(\"Digite a nota do PRIMEIRA idade: \"))\n",
    "idade02 = float(input(\"Digite a nota do SEGUNDA idade: \"))\n",
    "\n",
    "sub = idade01 - idade02\n",
    "print(\"Valor da idade01:\",idade01)\n",
    "print(\"Valor da idade02:\",idade02)\n",
    "print('A Subtração das idades:', idade01, \"-\", idade02, \"é igual a:\",sub)\n"
   ]
  },
  {
   "cell_type": "code",
   "execution_count": 8,
   "metadata": {},
   "outputs": [
    {
     "name": "stdout",
     "output_type": "stream",
     "text": [
      "Valor da idade01: 5.0\n",
      "Valor da idade02: 10.0\n",
      "A Multiplicação das idades: 5.0 * 10.0 é igual a: 50.0\n"
     ]
    }
   ],
   "source": [
    "#Multiplicação\n",
    "\n",
    "idade01 = float(input(\"Digite a nota do PRIMEIRA idade: \"))\n",
    "idade02 = float(input(\"Digite a nota do SEGUNDA idade: \"))\n",
    "\n",
    "mult = idade01 * idade02\n",
    "print(\"Valor da idade01:\",idade01)\n",
    "print(\"Valor da idade02:\",idade02)\n",
    "print('A Multiplicação das idades:', idade01, \"*\", idade02, \"é igual a:\",mult)"
   ]
  },
  {
   "cell_type": "code",
   "execution_count": 10,
   "metadata": {},
   "outputs": [
    {
     "name": "stdout",
     "output_type": "stream",
     "text": [
      "Valor da idade01: 40.0\n",
      "Valor da idade02: 10.0\n",
      "A Divisão das idades: 40.0 / 10.0 é igual a: 4.0\n"
     ]
    }
   ],
   "source": [
    "#Divisão\n",
    "\n",
    "idade01 = float(input(\"Digite a sua PRIMEIRA idade: \"))\n",
    "idade02 = float(input(\"Digite a sua do SEGUNDA idade: \"))\n",
    "\n",
    "div = idade01 / idade02\n",
    "print(\"Valor da idade01:\",idade01)\n",
    "print(\"Valor da idade02:\",idade02)\n",
    "print('A Divisão das idades:', idade01, \"/\", idade02, \"é igual a:\",div)"
   ]
  },
  {
   "cell_type": "code",
   "execution_count": 11,
   "metadata": {},
   "outputs": [
    {
     "name": "stdout",
     "output_type": "stream",
     "text": [
      "O maior valor entre 5.0, 20.0 e 13.0 é 20.0.\n",
      "Valores em ordem crescente: 5.0, 13.0 e 20.0.\n"
     ]
    }
   ],
   "source": [
    "a = float(input('Digite o primeiro número: '))\n",
    "b = float(input('Digite o segundo número: '))\n",
    "c = float(input('Digite o terceiro número: '))\n",
    "\n",
    "# Encontra o maior valor\n",
    "if a >= b and a >= c:\n",
    "    maior = a\n",
    "elif b >= a and b >= c:\n",
    "    maior = b\n",
    "else:\n",
    "    maior = c\n",
    "\n",
    "print(f'O maior valor entre {a}, {b} e {c} é {maior}.')\n",
    "\n",
    "# Ordena os valores em ordem crescente\n",
    "lista_valores = [a, b, c]\n",
    "lista_valores.sort()\n",
    "print(f'Valores em ordem crescente: {lista_valores[0]}, {lista_valores[1]} e {lista_valores[2]}.')"
   ]
  },
  {
   "cell_type": "code",
   "execution_count": null,
   "metadata": {},
   "outputs": [],
   "source": [
    "#Parêntesis\n",
    "#Expoente\n",
    "#Multiplicação\n",
    "#Divisão\n",
    "#Adição\n",
    "#Subtração"
   ]
  },
  {
   "cell_type": "code",
   "execution_count": 12,
   "metadata": {},
   "outputs": [
    {
     "name": "stdout",
     "output_type": "stream",
     "text": [
      "A nota do 1º Bimestre é: 7.0\n",
      "A nota do 2º Bimestre é: 6.5\n",
      "A nota do 3º Bimestre é: 8.0\n",
      "A nota do 4º Bimestre é: 6.9\n",
      "A média final é: 7.1\n",
      "Você foi Aprovado, João\n"
     ]
    }
   ],
   "source": [
    "#Nome recebe o nome dos alunos\n",
    "nome = str(input(\"Digite seu nome: \"))\n",
    "\n",
    "# Receber as notas dos quatro bimestres\n",
    "nota01 = float(input(\"Digite a nota do PRIMEIRO bimestre: \"))\n",
    "nota02 = float(input(\"Digite a nota do SEGUNDO bimestre: \"))\n",
    "nota03 = float(input(\"Digite a nota do TERCEIRO bimestre: \"))\n",
    "nota04 = float(input(\"Digite a nota do QUARTO bimestre: \"))\n",
    "\n",
    "# Calcular a média simples das notas\n",
    "media = (nota01 + nota02 + nota03 + nota04) / 4\n",
    "\n",
    "# Exibir as notas e a média final\n",
    "print(\"A nota do 1º Bimestre é:\", nota01)\n",
    "print(\"A nota do 2º Bimestre é:\", nota02)\n",
    "print(\"A nota do 3º Bimestre é:\", nota03)\n",
    "print(\"A nota do 4º Bimestre é:\", nota04)\n",
    "print(\"A média final é:\", media)\n",
    "\n",
    "# Verificar se a média é maior ou igual a 7.0\n",
    "if media >= 7:\n",
    "    print(\"Você foi Aprovado,\",nome)\n",
    "# Verificar se a média é maior ou igual a 5.0\n",
    "elif media >= 5:\n",
    "# Verificar se a média é menor do que 5.0\n",
    "    print(\"Você foi Recuperação,\",nome)\n",
    "else:\n",
    "    print(\"Você foi Reprovado,\",nome)"
   ]
  },
  {
   "cell_type": "code",
   "execution_count": null,
   "metadata": {},
   "outputs": [],
   "source": [
    "#Nome recebe o nome dos alunos\n",
    "nome = str(input(\"Digite seu nome: \"))\n",
    "\n",
    "# Receber as notas dos quatro bimestres\n",
    "nota01 = float(input(\"Digite a nota do PRIMEIRO bimestre: \"))\n",
    "nota02 = float(input(\"Digite a nota do SEGUNDO bimestre: \"))\n",
    "nota03 = float(input(\"Digite a nota do TERCEIRO bimestre: \"))\n",
    "nota04 = float(input(\"Digite a nota do QUARTO bimestre: \"))\n",
    "\n",
    "# Calcular a média simples das notas\n",
    "media = (nota01 + nota02 + nota03 + nota04) / 4\n",
    "\n",
    "# Exibir as notas e a média final\n",
    "print(\"A nota do 1º Bimestre é:\", nota01)\n",
    "print(\"A nota do 2º Bimestre é:\", nota02)\n",
    "print(\"A nota do 3º Bimestre é:\", nota03)\n",
    "print(\"A nota do 4º Bimestre é:\", nota04)\n",
    "print(\"A média final é:\", media)\n",
    "\n",
    "# Verificar se a média é maior ou igual a 7.0\n",
    "if media >= 7:\n",
    "    print(\"Você foi Aprovado,\",nome)\n",
    "# Verificar se a média é maior ou igual a 5.0\n",
    "elif media >= 5:\n",
    "# Verificar se a média é menor do que 5.0\n",
    "    print(\"Você foi Recuperação,\",nome)\n",
    "else:\n",
    "    print(\"Você foi Reprovado,\",nome)"
   ]
  },
  {
   "cell_type": "code",
   "execution_count": 46,
   "metadata": {},
   "outputs": [
    {
     "name": "stdout",
     "output_type": "stream",
     "text": [
      "Sua idade é: 45\n"
     ]
    }
   ],
   "source": [
    "\n",
    "\n",
    "idade= int(input(\"Digite sua idade: \"))\n",
    "print(\"Sua idade é:\", idade)\n"
   ]
  },
  {
   "cell_type": "code",
   "execution_count": 48,
   "metadata": {},
   "outputs": [
    {
     "name": "stdout",
     "output_type": "stream",
     "text": [
      "11\n"
     ]
    }
   ],
   "source": [
    "num1 = 12\n",
    "num1 -=1\n",
    "print(num1)"
   ]
  },
  {
   "cell_type": "code",
   "execution_count": 49,
   "metadata": {},
   "outputs": [
    {
     "name": "stdout",
     "output_type": "stream",
     "text": [
      "13\n"
     ]
    }
   ],
   "source": [
    "num2 = 12\n",
    "num2 +=1\n",
    "print(num2)"
   ]
  },
  {
   "cell_type": "code",
   "execution_count": 47,
   "metadata": {},
   "outputs": [
    {
     "data": {
      "text/plain": [
       "int"
      ]
     },
     "execution_count": 47,
     "metadata": {},
     "output_type": "execute_result"
    }
   ],
   "source": [
    "type(idade)"
   ]
  },
  {
   "cell_type": "code",
   "execution_count": 15,
   "metadata": {},
   "outputs": [
    {
     "name": "stdout",
     "output_type": "stream",
     "text": [
      "calculo 1º é igual a: 26\n",
      "calculo 2º é igual a: 17.25\n",
      "calculo 3º é igual a: 8.25\n"
     ]
    }
   ],
   "source": [
    "idade01= 6\n",
    "idade02= 7 \n",
    "valor1= 2*(idade01 + idade02)\n",
    "valor2= 2 * idade01 + 3 * idade02 / 4\n",
    "valor3= (2 * idade01 + 3 * idade02) / 4\n",
    "print(\"calculo 1º é igual a:\",valor1)\n",
    "print(\"calculo 2º é igual a:\",valor2)\n",
    "print(\"calculo 3º é igual a:\",valor3)"
   ]
  },
  {
   "cell_type": "code",
   "execution_count": null,
   "metadata": {},
   "outputs": [],
   "source": [
    "idade01= 6\n",
    "idade02= 7 \n",
    "valor1= 2*(idade01 + idade02)\n",
    "valor2= 2 * idade01 + 3 * idade02 / 4\n",
    "valor3= (2 * idade01 + 3 * idade02) / 4\n",
    "valor4= \n",
    "valor5=\n",
    "valor6= idade01 // idade02\n",
    "valor7= idade01 / idade02\n",
    "valor8= idade01 % idade02\n",
    "print(\"calculo 1º é igual a:\",valor1)\n",
    "print(\"calculo 2º é igual a:\",valor2)\n",
    "print(\"calculo 3º é igual a:\",valor3)\n",
    "print(\"calculo 6º é igual a:\",valor6)\n",
    "print(\"calculo 7º é igual a:\",valor7)\n",
    "print(\"calculo 8º é igual a:\",valor8)"
   ]
  },
  {
   "cell_type": "code",
   "execution_count": 34,
   "metadata": {},
   "outputs": [
    {
     "name": "stdout",
     "output_type": "stream",
     "text": [
      "Felipe Pimentel\n"
     ]
    }
   ],
   "source": [
    "nome= \"Felipe\"\n",
    "sobreNome= \"Pimentel\"\n",
    "print(nome + ' ' + sobreNome )"
   ]
  },
  {
   "cell_type": "code",
   "execution_count": 36,
   "metadata": {},
   "outputs": [
    {
     "name": "stdout",
     "output_type": "stream",
     "text": [
      "Olá, Felipe Pimentel você tem 45 anos\n"
     ]
    }
   ],
   "source": [
    "nome= \"Felipe\"\n",
    "sobreNome= \"Pimentel\"\n",
    "idade= 45\n",
    "print('Olá,',nome + ' ' + sobreNome, 'você tem', idade, 'anos' )"
   ]
  },
  {
   "cell_type": "code",
   "execution_count": 38,
   "metadata": {},
   "outputs": [
    {
     "name": "stdout",
     "output_type": "stream",
     "text": [
      "Olá, Felipe Pimentel \n",
      " você tem 45 anos\n"
     ]
    }
   ],
   "source": [
    "nome= \"Felipe\"\n",
    "sobreNome= \"Pimentel\"\n",
    "idade= 45\n",
    "print('Olá,',nome + ' ' + sobreNome, '\\n', 'você tem', idade, 'anos' )"
   ]
  }
 ],
 "metadata": {
  "kernelspec": {
   "display_name": "venv",
   "language": "python",
   "name": "python3"
  },
  "language_info": {
   "codemirror_mode": {
    "name": "ipython",
    "version": 3
   },
   "file_extension": ".py",
   "mimetype": "text/x-python",
   "name": "python",
   "nbconvert_exporter": "python",
   "pygments_lexer": "ipython3",
   "version": "3.12.2"
  }
 },
 "nbformat": 4,
 "nbformat_minor": 2
}
