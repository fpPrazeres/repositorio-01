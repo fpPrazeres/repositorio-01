{
 "cells": [
  {
   "cell_type": "code",
   "execution_count": 4,
   "metadata": {},
   "outputs": [
    {
     "name": "stdout",
     "output_type": "stream",
     "text": [
      "1 elefante incomoda muita gente\n",
      "2 elefantes  incomodam, incomodam,  muito mais!\n",
      "3 elefantes  incomodam muita gente!\n",
      "4 elefantes incomodam, incomodam, incomodam, incomodam,  muito mais!\n",
      "5 elefantes  incomodam muita gente!\n",
      "6 elefantes incomodam, incomodam, incomodam, incomodam, incomodam, incomodam,  muito mais!\n",
      "7 elefantes  incomodam muita gente!\n",
      "8 elefantes incomodam, incomodam, incomodam, incomodam, incomodam, incomodam, incomodam, incomodam,  muito mais!\n",
      "9 elefantes  incomodam muita gente!\n",
      "10 elefantes incomodam, incomodam, incomodam, incomodam, incomodam, incomodam, incomodam, incomodam, incomodam, incomodam,  muito mais!\n",
      "9 elefantes  incomodam muita gente!\n",
      "8 elefantes incomodam, incomodam, incomodam, incomodam, incomodam, incomodam, incomodam, incomodam,  muito menos!\n",
      "7 elefantes  incomodam muita gente!\n",
      "6 elefantes incomodam, incomodam, incomodam, incomodam, incomodam, incomodam,  muito menos!\n",
      "5 elefantes  incomodam muita gente!\n",
      "4 elefantes incomodam, incomodam, incomodam, incomodam,  muito menos!\n",
      "3 elefantes  incomodam muita gente!\n",
      "2 elefantes  incomodam, incomodam,  muito mais!\n",
      "1 elefante incomoda muita gente\n"
     ]
    }
   ],
   "source": [
    "#Um Elefante Incomoda.\n",
    "irritar = 'incomodam, '\n",
    "\n",
    "for i in range(1, 11):\n",
    "    if i % 2 == 0:\n",
    "        if i == 2:\n",
    "             print(i, 'elefantes ', irritar * i  , 'muito mais!')\n",
    "        else:\n",
    "            print(i, 'elefantes',  irritar * i ,'muito mais!')\n",
    "        \n",
    "    else:\n",
    "        if i == 1:\n",
    "            print(i, 'elefante incomoda muita gente')\n",
    "        else:\n",
    "            print(i, 'elefantes  incomodam muita gente!')\n",
    "\n",
    "for i in reversed(range(1, 10)):\n",
    "    if i % 2 == 0:\n",
    "        if i == 2:\n",
    "             print(i, 'elefantes ', irritar * i  , 'muito mais!')\n",
    "        else:\n",
    "            print(i, 'elefantes',  irritar * i ,'muito menos!')\n",
    "        \n",
    "    else:\n",
    "        if i == 1:\n",
    "            print(i, 'elefante incomoda muita gente')\n",
    "        else:\n",
    "            print(i, 'elefantes  incomodam muita gente!')"
   ]
  },
  {
   "cell_type": "code",
   "execution_count": 3,
   "metadata": {},
   "outputs": [
    {
     "name": "stdout",
     "output_type": "stream",
     "text": [
      "\n",
      " Mariana conta 1 \n",
      " Mariana 1: é 1, é 1, é! \n",
      " Ana, viva a Mariana, viva a Mariana\n",
      "\n",
      " Mariana conta 2\n",
      "Mariana conta 2 :  é 1,  é 2,  é!\n",
      "Ana viva a Mariana, viva Mariana\n",
      "\n",
      " Mariana conta 3\n",
      "Mariana conta 3 :  é 1,  é 2,  é 3,  é!\n",
      "Ana viva a Mariana, viva Mariana\n",
      "\n",
      " Mariana conta 4\n",
      "Mariana conta 4 :  é 1,  é 2,  é 3,  é 4,  é!\n",
      "Ana viva a Mariana, viva Mariana\n",
      "\n",
      " Mariana conta 5\n",
      "Mariana conta 5 :  é 1,  é 2,  é 3,  é 4,  é 5,  é!\n",
      "Ana viva a Mariana, viva Mariana\n",
      "\n",
      " Mariana conta 6\n",
      "Mariana conta 6 :  é 1,  é 2,  é 3,  é 4,  é 5,  é 6,  é!\n",
      "Ana viva a Mariana, viva Mariana\n",
      "\n",
      " Mariana conta 7\n",
      "Mariana conta 7 :  é 1,  é 2,  é 3,  é 4,  é 5,  é 6,  é 7,  é!\n",
      "Ana viva a Mariana, viva Mariana\n",
      "\n",
      " Mariana conta 8\n",
      "Mariana conta 8 :  é 1,  é 2,  é 3,  é 4,  é 5,  é 6,  é 7,  é 8,  é!\n",
      "Ana viva a Mariana, viva Mariana\n",
      "\n",
      " Mariana conta 9\n",
      "Mariana conta 9 :  é 1,  é 2,  é 3,  é 4,  é 5,  é 6,  é 7,  é 8,  é 9,  é!\n",
      "Ana viva a Mariana, viva Mariana\n",
      "\n",
      " Mariana conta 10\n",
      "Mariana conta 10 :  é 1,  é 2,  é 3,  é 4,  é 5,  é 6,  é 7,  é 8,  é 9,  é 10,  é!\n",
      "Ana viva a Mariana, viva Mariana\n"
     ]
    }
   ],
   "source": [
    "#Viva MAriana\n",
    "\n",
    "for num1 in range (1, 11):\n",
    "  if num1 == 1:\n",
    "    print(\"\\n Mariana conta 1 \\n Mariana 1: é 1, é 1, é! \\n Ana, viva a Mariana, viva a Mariana\")\n",
    "  else:\n",
    "    print(\"\\n Mariana conta\",num1)\n",
    "    print(\"Mariana conta\",num1,\":\", end = \" \")\n",
    "    for num2 in range (1, num1+1):\n",
    "       print(f\" é {num2},\", end = \" \")\n",
    "    print(\" é!\")\n",
    "    print(\"Ana viva a Mariana, viva Mariana\") "
   ]
  },
  {
   "cell_type": "code",
   "execution_count": 2,
   "metadata": {},
   "outputs": [
    {
     "name": "stdout",
     "output_type": "stream",
     "text": [
      "5 patinhos foram passear\n",
      " Além das montanhas para brincar\n",
      " A mamãe gritou: \"quá, quá, quá, quá!\"\n",
      " Mas só 4 patinhos voltaram de lá\n",
      "\n",
      "4 patinhos foram passear\n",
      " Além das montanhas para brincar\n",
      " A mamãe gritou: \"quá, quá, quá, quá!\"\n",
      " Mas só 3 patinhos voltaram de lá\n",
      "\n",
      "3 patinhos foram passear\n",
      " Além das montanhas para brincar\n",
      " A mamãe gritou: \"quá, quá, quá, quá!\"\n",
      " Mas só 2 patinhos voltaram de lá\n",
      "\n",
      "2 patinhos foram passear\n",
      " Além das montanhas para brincar\n",
      " A mamãe gritou: \"quá, quá, quá, quá!\"\n",
      " Mas só 1 patinhos voltaram de lá\n",
      "\n",
      "1 patinho foi passear\n",
      " Além das montanhas para brincar\n",
      " A mamãe gritou: \"quá, quá, quá, quá!\"\n",
      " Mas nenhum patinho voltou de lá\n"
     ]
    }
   ],
   "source": [
    "#Cinco Patinhos\n",
    "\n",
    "for patinhos in [5, 4, 3, 2, 1]:\n",
    "    if patinhos != 1 :\n",
    "        print(patinhos, 'patinhos foram passear\\n Além das montanhas para brincar\\n A mamãe gritou: \"quá, quá, quá, quá!\"\\n Mas só', patinhos-1, 'patinhos voltaram de lá\\n', )\n",
    "    else :\n",
    "        print(patinhos, 'patinho foi passear\\n Além das montanhas para brincar\\n A mamãe gritou: \"quá, quá, quá, quá!\"\\n Mas nenhum patinho voltou de lá', )"
   ]
  }
 ],
 "metadata": {
  "kernelspec": {
   "display_name": "Python 3",
   "language": "python",
   "name": "python3"
  },
  "language_info": {
   "codemirror_mode": {
    "name": "ipython",
    "version": 3
   },
   "file_extension": ".py",
   "mimetype": "text/x-python",
   "name": "python",
   "nbconvert_exporter": "python",
   "pygments_lexer": "ipython3",
   "version": "3.12.3"
  }
 },
 "nbformat": 4,
 "nbformat_minor": 2
}
