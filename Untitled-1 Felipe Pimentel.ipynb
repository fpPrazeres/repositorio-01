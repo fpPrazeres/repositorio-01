{
 "cells": [
  {
   "cell_type": "code",
   "execution_count": 6,
   "metadata": {},
   "outputs": [
    {
     "name": "stdout",
     "output_type": "stream",
     "text": [
      "Estamos no elemento s\n",
      "Estamos no elemento t\n",
      "Estamos no elemento r\n",
      "Estamos no elemento i\n",
      "Estamos no elemento n\n",
      "Estamos no elemento g\n"
     ]
    }
   ],
   "source": [
    "for elemento in \"string\":\n",
    "  print(\"Estamos no elemento\", elemento)"
   ]
  },
  {
   "cell_type": "code",
   "execution_count": 7,
   "metadata": {},
   "outputs": [
    {
     "name": "stdout",
     "output_type": "stream",
     "text": [
      "Estamos no elemento 0\n",
      "Estamos no elemento 1\n",
      "Estamos no elemento 2\n",
      "Estamos no elemento 3\n",
      "Estamos no elemento 4\n",
      "Estamos no elemento 5\n"
     ]
    }
   ],
   "source": [
    "for elemento in range (len(\"string\")):\n",
    "    print(\"Estamos no elemento\", elemento)"
   ]
  },
  {
   "cell_type": "code",
   "execution_count": 9,
   "metadata": {},
   "outputs": [],
   "source": [
    "for produto in range (0, 4):\n",
    "  p= str(input(\"Digite o Nome do Produto: \"))\n",
    "  v=float(input(\"Digite o valor do produto:\"))"
   ]
  },
  {
   "cell_type": "code",
   "execution_count": 8,
   "metadata": {},
   "outputs": [
    {
     "name": "stdout",
     "output_type": "stream",
     "text": [
      "Estamos no elemento 1\n",
      "Estamos no elemento 2\n",
      "Estamos no elemento 3\n",
      "Estamos no elemento 4\n",
      "Estamos no elemento 5\n",
      "Estamos no elemento 6\n"
     ]
    }
   ],
   "source": [
    "for elemento in [1, 2, 3, 4, 5, 6]:\n",
    "  print(\"Estamos no elemento\", elemento)"
   ]
  },
  {
   "cell_type": "code",
   "execution_count": 10,
   "metadata": {},
   "outputs": [],
   "source": [
    "produto = 0\n",
    "while produto < 4:\n",
    "     p= str(input(\"Digite o Nome do Produto: \"))\n",
    "     v=float(input(\"Digite o valor do produto:\"))\n",
    "     produto +=1"
   ]
  },
  {
   "cell_type": "code",
   "execution_count": 11,
   "metadata": {},
   "outputs": [
    {
     "name": "stdout",
     "output_type": "stream",
     "text": [
      "Estamos no elemento 0\n",
      "Estamos no elemento 1\n",
      "Estamos no elemento 2\n",
      "Estamos no elemento 3\n",
      "Estamos no elemento 4\n",
      "Estamos no elemento 5\n",
      "Estamos no elemento 6\n"
     ]
    }
   ],
   "source": [
    "elemento = 0\n",
    "while elemento <= len([1, 2, 3, 4, 5, 6]):\n",
    "    print(\"Estamos no elemento\", elemento)\n",
    "    elemento +=1"
   ]
  },
  {
   "cell_type": "code",
   "execution_count": 6,
   "metadata": {},
   "outputs": [
    {
     "name": "stdout",
     "output_type": "stream",
     "text": [
      "1\n",
      "2\n",
      "3\n",
      "4\n",
      "5\n"
     ]
    }
   ],
   "source": [
    "lista = [1, 2, 3, 4, 5]\n",
    "\n",
    "for item in lista:\n",
    "    print(item)\n",
    "    "
   ]
  },
  {
   "cell_type": "code",
   "execution_count": 7,
   "metadata": {},
   "outputs": [
    {
     "name": "stdout",
     "output_type": "stream",
     "text": [
      "Processador\n",
      "Teclado\n",
      "Mouse\n"
     ]
    }
   ],
   "source": [
    "computador = ['Processador', 'Teclado', 'Mouse']\n",
    "\n",
    "for item in computador:\n",
    "    print(item)"
   ]
  },
  {
   "cell_type": "code",
   "execution_count": 15,
   "metadata": {},
   "outputs": [
    {
     "name": "stdout",
     "output_type": "stream",
     "text": [
      "Estamos no elemento s\n",
      "Estamos no elemento t\n",
      "Estamos no elemento r\n",
      "Estamos no elemento i\n",
      "Estamos no elemento n\n",
      "Estamos no elemento g\n"
     ]
    }
   ],
   "source": [
    "s= \"string\"\n",
    "indice = 0\n",
    "while indice in range(len (s)):\n",
    "    print(\"Estamos no elemento\", s[indice])\n",
    "    indice +=1"
   ]
  },
  {
   "cell_type": "code",
   "execution_count": 20,
   "metadata": {},
   "outputs": [
    {
     "name": "stdout",
     "output_type": "stream",
     "text": [
      "6 T\n",
      "6 r\n",
      "6 a\n",
      "6 n\n",
      "6 q\n",
      "6 u\n",
      "6 i\n",
      "6 l\n",
      "6 o\n"
     ]
    }
   ],
   "source": [
    "palavra =\"Tranquilo\"\n",
    "for indece, letra in enumerate(palavra):\n",
    "    print(indice, letra)"
   ]
  },
  {
   "cell_type": "code",
   "execution_count": 23,
   "metadata": {},
   "outputs": [
    {
     "name": "stdout",
     "output_type": "stream",
     "text": [
      "oi\n",
      "oi\n",
      "oi\n",
      "oi\n",
      "oi\n",
      "oi\n",
      "oi\n",
      "oi\n",
      "oi\n",
      "oi\n",
      "oi\n",
      "oi\n",
      "oi\n"
     ]
    }
   ],
   "source": [
    "s = \"viva o python\"\n",
    "for ch in s:\n",
    "    print(\"oi\")"
   ]
  },
  {
   "cell_type": "code",
   "execution_count": 39,
   "metadata": {},
   "outputs": [
    {
     "name": "stdout",
     "output_type": "stream",
     "text": [
      "A quantidades de numeros  pares é:  9\n",
      "A quantidades de numeros  impares é: 1\n"
     ]
    }
   ],
   "source": [
    "cont = 0\n",
    "contpar = 0\n",
    "contimpar = 0\n",
    "for cont in range (10):\n",
    "    valor=int(input(\"Digite 10 numeros inteiros:\"))\n",
    "    if(valor % 2 == 0):\n",
    "       contpar +=1\n",
    "    else:\n",
    "       contimpar +=1\n",
    "       \n",
    "print(\"A quantidades de numeros  pares é: \", contpar)\n",
    "print(\"A quantidades de numeros  impares é:\", contimpar)\n",
    "    \n"
   ]
  }
 ],
 "metadata": {
  "kernelspec": {
   "display_name": "Python 3",
   "language": "python",
   "name": "python3"
  },
  "language_info": {
   "codemirror_mode": {
    "name": "ipython",
    "version": 3
   },
   "file_extension": ".py",
   "mimetype": "text/x-python",
   "name": "python",
   "nbconvert_exporter": "python",
   "pygments_lexer": "ipython3",
   "version": "3.11.9"
  }
 },
 "nbformat": 4,
 "nbformat_minor": 2
}
