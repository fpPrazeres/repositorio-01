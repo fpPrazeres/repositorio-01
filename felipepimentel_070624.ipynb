{
 "cells": [
  {
   "cell_type": "code",
   "execution_count": null,
   "metadata": {},
   "outputs": [],
   "source": [
    "range(1,5)"
   ]
  },
  {
   "cell_type": "code",
   "execution_count": 4,
   "metadata": {},
   "outputs": [],
   "source": [
    "def funcaoLeitura1(): \n",
    "    for num in [1,2,3,4,5]:\n",
    "        print(\"numero\", num)"
   ]
  },
  {
   "cell_type": "code",
   "execution_count": 5,
   "metadata": {},
   "outputs": [
    {
     "name": "stdout",
     "output_type": "stream",
     "text": [
      "numero 1\n",
      "numero 2\n",
      "numero 3\n",
      "numero 4\n",
      "numero 5\n"
     ]
    }
   ],
   "source": [
    "funcaoLeitura1()"
   ]
  },
  {
   "cell_type": "code",
   "execution_count": 6,
   "metadata": {},
   "outputs": [],
   "source": [
    "def funcaoLeitura2():\n",
    "    for num in range(5):\n",
    "        print(\"Numero\", num)\n",
    "    "
   ]
  },
  {
   "cell_type": "code",
   "execution_count": 7,
   "metadata": {},
   "outputs": [
    {
     "name": "stdout",
     "output_type": "stream",
     "text": [
      "Numero 0\n",
      "Numero 1\n",
      "Numero 2\n",
      "Numero 3\n",
      "Numero 4\n"
     ]
    }
   ],
   "source": [
    "funcaoLeitura2()"
   ]
  },
  {
   "cell_type": "code",
   "execution_count": 1,
   "metadata": {},
   "outputs": [],
   "source": [
    "def addNum( n1, n2):\n",
    "    print(\"O primeiro número é:\", n1)\n",
    "    print(\"O segundo número é:\", n2)\n",
    "    print(\"A soma número é:\", n1+n2)"
   ]
  },
  {
   "cell_type": "code",
   "execution_count": 2,
   "metadata": {},
   "outputs": [
    {
     "ename": "TypeError",
     "evalue": "addNum() missing 2 required positional arguments: 'n1' and 'n2'",
     "output_type": "error",
     "traceback": [
      "\u001b[1;31m---------------------------------------------------------------------------\u001b[0m",
      "\u001b[1;31mTypeError\u001b[0m                                 Traceback (most recent call last)",
      "Cell \u001b[1;32mIn[2], line 1\u001b[0m\n\u001b[1;32m----> 1\u001b[0m \u001b[43maddNum\u001b[49m\u001b[43m(\u001b[49m\u001b[43m)\u001b[49m\n",
      "\u001b[1;31mTypeError\u001b[0m: addNum() missing 2 required positional arguments: 'n1' and 'n2'"
     ]
    }
   ],
   "source": [
    "addNum()"
   ]
  },
  {
   "cell_type": "code",
   "execution_count": 9,
   "metadata": {},
   "outputs": [
    {
     "name": "stdout",
     "output_type": "stream",
     "text": [
      "O primeiro número é: 2\n",
      "O segundo número é: 3\n",
      "A soma número é: 5\n"
     ]
    }
   ],
   "source": [
    "addNum(2, 3)"
   ]
  },
  {
   "cell_type": "code",
   "execution_count": 10,
   "metadata": {},
   "outputs": [
    {
     "name": "stdout",
     "output_type": "stream",
     "text": [
      "O primeiro número é: 4\n",
      "O segundo número é: 3\n",
      "A soma número é: 7\n"
     ]
    }
   ],
   "source": [
    "addNum(4, 3)"
   ]
  },
  {
   "cell_type": "code",
   "execution_count": 3,
   "metadata": {},
   "outputs": [
    {
     "name": "stdout",
     "output_type": "stream",
     "text": [
      "Variavel de função multiplicar 20\n",
      "10\n"
     ]
    }
   ],
   "source": [
    "varGlobal = 10 #essa é uma variavel golbal\n",
    "def multiplicacao(num1, num2):\n",
    "    #apesar do mesmo nome, é uma variavel local\n",
    "    varGlobal = (num1 * num2)\n",
    "    print(\"Variavel de função multiplicar\", varGlobal)\n",
    "multiplicacao(5, 4)\n",
    "print(varGlobal)"
   ]
  },
  {
   "cell_type": "code",
   "execution_count": 11,
   "metadata": {},
   "outputs": [],
   "source": [
    "varGlobal = 10 #essa é uma variavel golbal\n",
    "def multiplica(num1, num2):\n",
    "    #apesar do mesmo nome, é uma variavel local\n",
    "    varLocal = num1 * num2\n",
    "    print(\"Variavel de função multiplicar\", varLocal)\n",
    "    print(varLocal)\n"
   ]
  },
  {
   "cell_type": "code",
   "execution_count": 14,
   "metadata": {},
   "outputs": [
    {
     "name": "stdout",
     "output_type": "stream",
     "text": [
      "Variavel de função multiplicar 20\n",
      "20\n"
     ]
    }
   ],
   "source": [
    "multiplica(5, 4)"
   ]
  },
  {
   "cell_type": "code",
   "execution_count": 15,
   "metadata": {},
   "outputs": [
    {
     "ename": "NameError",
     "evalue": "name 'varLocal' is not defined",
     "output_type": "error",
     "traceback": [
      "\u001b[1;31m---------------------------------------------------------------------------\u001b[0m",
      "\u001b[1;31mNameError\u001b[0m                                 Traceback (most recent call last)",
      "Cell \u001b[1;32mIn[15], line 1\u001b[0m\n\u001b[1;32m----> 1\u001b[0m \u001b[38;5;28mprint\u001b[39m(\u001b[43mvarLocal\u001b[49m)\n",
      "\u001b[1;31mNameError\u001b[0m: name 'varLocal' is not defined"
     ]
    }
   ],
   "source": [
    "print(varLocal)"
   ]
  },
  {
   "cell_type": "code",
   "execution_count": 16,
   "metadata": {},
   "outputs": [],
   "source": [
    "def separarTexto(texto):\n",
    "    return texto.split()"
   ]
  },
  {
   "cell_type": "code",
   "execution_count": 17,
   "metadata": {},
   "outputs": [
    {
     "data": {
      "text/plain": [
       "['Cibele', 'Maria', 'Suely']"
      ]
     },
     "execution_count": 17,
     "metadata": {},
     "output_type": "execute_result"
    }
   ],
   "source": [
    "separarTexto(\"Cibele Maria Suely\")"
   ]
  },
  {
   "cell_type": "code",
   "execution_count": 24,
   "metadata": {},
   "outputs": [],
   "source": [
    "#Quando não sabemos a quantidade de parâmetros basta usar\n",
    "def variosParametros(*parametros):\n",
    "    for n, item in enumerate(parametros):\n",
    "        print(\"Parâmetro\", n, item)\n",
    "    return    \n"
   ]
  },
  {
   "cell_type": "code",
   "execution_count": 25,
   "metadata": {},
   "outputs": [
    {
     "name": "stdout",
     "output_type": "stream",
     "text": [
      "Parâmetro 0 Cibele\n",
      "Parâmetro 1 Suely\n",
      "Parâmetro 2 Giggio\n",
      "Parâmetro 3 Madá\n",
      "Parâmetro 4 Luquinhas\n"
     ]
    }
   ],
   "source": [
    "variosParametros(\"Cibele\", \"Suely\", \"Giggio\", \"Madá\", \"Luquinhas\")"
   ]
  },
  {
   "cell_type": "code",
   "execution_count": 26,
   "metadata": {},
   "outputs": [
    {
     "name": "stdout",
     "output_type": "stream",
     "text": [
      "Parâmetro 0 pitomba\n",
      "Parâmetro 1 jambo\n",
      "Parâmetro 2 sitiguela\n",
      "Parâmetro 3 umbu\n"
     ]
    }
   ],
   "source": [
    "variosParametros(\"pitomba\", \"jambo\",\"sitiguela\",\"umbu\")"
   ]
  },
  {
   "cell_type": "code",
   "execution_count": 27,
   "metadata": {},
   "outputs": [],
   "source": [
    "#Calculadora\n",
    "def soma(n1, n2):\n",
    "    return n1+n2\n",
    "\n",
    "def subtrai(n1, n2):\n",
    "    return n1-n2\n",
    "\n",
    "def divisao(n1, n2):\n",
    "    return n1/n2\n",
    "\n",
    "def multiplica(n1, n2):\n",
    "    return n1*n2\n",
    "\n",
    "def expo(n1, n2):\n",
    "    return n1**n2\n"
   ]
  },
  {
   "cell_type": "code",
   "execution_count": 30,
   "metadata": {},
   "outputs": [
    {
     "name": "stdout",
     "output_type": "stream",
     "text": [
      "+============================+\n",
      "|    MENU DE OPERAÇÕES       |\n",
      "|      1 - SOMA              |\n",
      "|      2 - SUBTRAIR          |\n",
      "|      3 - DIVISÃO           |\n",
      "|      4 - MULTPLICAÇÃO      |\n",
      "|      5 - EXPONENCIAL       |\n",
      "|      6 - SAIR              |\n",
      "+============================+\n",
      "O resultado da soma é: 30\n",
      "+============================+\n",
      "|    MENU DE OPERAÇÕES       |\n",
      "|      1 - SOMA              |\n",
      "|      2 - SUBTRAIR          |\n",
      "|      3 - DIVISÃO           |\n",
      "|      4 - MULTPLICAÇÃO      |\n",
      "|      5 - EXPONENCIAL       |\n",
      "|      6 - SAIR              |\n",
      "+============================+\n"
     ]
    }
   ],
   "source": [
    "while True:\n",
    "    print(\"+============================+\")\n",
    "    print(\"|    MENU DE OPERAÇÕES       |\")\n",
    "    print(\"|      1 - SOMA              |\")\n",
    "    print(\"|      2 - SUBTRAIR          |\")\n",
    "    print(\"|      3 - DIVISÃO           |\")\n",
    "    print(\"|      4 - MULTPLICAÇÃO      |\")\n",
    "    print(\"|      5 - EXPONENCIAL       |\")\n",
    "    print(\"|      6 - SAIR              |\") \n",
    "    print(\"+============================+\")\n",
    "    op = int(input())\n",
    "    if op==0:\n",
    "        break\n",
    "    n1 = int(input(\"Primeiro número: \"))\n",
    "    n2 = int(input(\"Segundo número: \"))\n",
    "    \n",
    "    if op==1:\n",
    "        print(\"O resultado da soma é:\", soma(n1, n2))\n",
    "    elif op==2:    \n",
    "         print(\"O resultado da soma é:\", subtrai(n1, n2))\n",
    "    elif op==3:    \n",
    "         print(\"O resultado da soma é:\", divisao(n1, n2))\n",
    "    elif op==4:    \n",
    "         print(\"O resultado da soma é:\", multiplica(n1, n2))\n",
    "    elif op==5:    \n",
    "         print(\"O resultado da soma é:\", expo(n1, n2))     \n",
    "         \n",
    "         "
   ]
  }
 ],
 "metadata": {
  "kernelspec": {
   "display_name": "Python 3",
   "language": "python",
   "name": "python3"
  },
  "language_info": {
   "codemirror_mode": {
    "name": "ipython",
    "version": 3
   },
   "file_extension": ".py",
   "mimetype": "text/x-python",
   "name": "python",
   "nbconvert_exporter": "python",
   "pygments_lexer": "ipython3",
   "version": "3.12.3"
  }
 },
 "nbformat": 4,
 "nbformat_minor": 2
}
