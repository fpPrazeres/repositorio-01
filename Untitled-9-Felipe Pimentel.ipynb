{
 "cells": [
  {
   "cell_type": "code",
   "execution_count": null,
   "metadata": {},
   "outputs": [],
   "source": [
    "#2-) Cria uma lista chamada minhalista com os seguintes itens: 76,92.3, \"oi\", True, 4,76. Depois execute os seguintes comandos:\n",
    "#a) Inserir \"pitomba\" e 76 no final da lista\n",
    "minhalista = [76, 92.3, \"oi\", True, 4, 76]\n",
    "novalista =['pitomba',76]\n",
    "minhalista + novalista"
   ]
  },
  {
   "cell_type": "code",
   "execution_count": null,
   "metadata": {},
   "outputs": [],
   "source": [
    "#2-) Cria uma lista chamada minhalista com os seguintes itens: 76,92.3, \"oi\", True, 4,76. Depois execute os seguintes comandos:\n",
    "#b) Inserir \"Cibele\" na posição de ínicio 3.\n",
    "minhalista = [76, 92.3, \"oi\", True, 4, 76]\n",
    "novalista =[\"Cibele\"]\n",
    "print(minhalista[0:3] + novalista + minhalista[3:6])\n"
   ]
  },
  {
   "cell_type": "code",
   "execution_count": null,
   "metadata": {},
   "outputs": [],
   "source": [
    "#2-) Cria uma lista chamada minhalista com os seguintes itens: 76,92.3, \"oi\", True, 4,76. Depois execute os seguintes comandos:\n",
    "#c) Inserir o valor 99 no início da lista.\n",
    "minhalista = [76, 92.3, \"oi\", True, 4, 76]\n",
    "novalista =[99]\n",
    "novalista + minhalista\n"
   ]
  },
  {
   "cell_type": "code",
   "execution_count": null,
   "metadata": {},
   "outputs": [],
   "source": [
    "#2-) Cria uma lista chamada minhalista com os seguintes itens: 76,92.3, \"oi\", True, 4,76. Depois execute os seguintes comandos:\n",
    "#d) Encontrar o índice de \"oi\"\n",
    "minhalista = [76, 92.3, \"oi\", True, 4, 76]\n",
    "if(minhalista[0]== \"oi\"):\n",
    "\tprint(\"indice 1\")\n",
    "elif(minhalista[1]== \"oi\"):\n",
    "\tprint(\"indice 2\")\n",
    "elif(minhalista[2]== \"oi\"):\n",
    "\tprint(\"indice 3\")\n",
    "elif(minhalista[3]== \"oi\"):\n",
    "\tprint(\"indice 4\")\n",
    "elif(minhalista[4]== \"oi\"):\n",
    "\tprint(\"indice 5\")\n",
    "else:\n",
    "\tprint(\"indice 6\")\n",
    "\n",
    "\n",
    "\n"
   ]
  },
  {
   "cell_type": "code",
   "execution_count": null,
   "metadata": {},
   "outputs": [],
   "source": [
    "#2-) Cria uma lista chamada minhalista com os seguintes itens: 76,92.3, \"oi\", True, 4,76. Depois execute os seguintes comandos:\n",
    "#e) Remover True da lista\n",
    "minhalista = [76, 92.3, \"oi\", True, 4, 76]\n",
    "\n"
   ]
  }
 ],
 "metadata": {
  "language_info": {
   "name": "python"
  }
 },
 "nbformat": 4,
 "nbformat_minor": 2
}
