{
 "cells": [
  {
   "cell_type": "code",
   "execution_count": null,
   "metadata": {},
   "outputs": [],
   "source": [
    "valor1 = int(input('Digite um número inteiro: '))\n",
    "valor2 = int(input('Digite um número inteiro: '))\n",
    "print(valor1 == valor2)\n",
    "print(valor1 > valor2)\n",
    "print(valor1 >= valor2)\n",
    "print(valor1 <= valor2)\n"
   ]
  },
  {
   "cell_type": "code",
   "execution_count": 25,
   "metadata": {},
   "outputs": [
    {
     "name": "stdout",
     "output_type": "stream",
     "text": [
      "False\n"
     ]
    }
   ],
   "source": [
    "numero = 10\n",
    "print(numero > 0 and numero < 10)"
   ]
  },
  {
   "cell_type": "code",
   "execution_count": 29,
   "metadata": {},
   "outputs": [
    {
     "name": "stdout",
     "output_type": "stream",
     "text": [
      "True\n"
     ]
    }
   ],
   "source": [
    "numero = 10\n",
    "print(numero > 0 or numero < 10)"
   ]
  },
  {
   "cell_type": "code",
   "execution_count": 33,
   "metadata": {},
   "outputs": [
    {
     "name": "stdout",
     "output_type": "stream",
     "text": [
      " A é maior que B: 7\n"
     ]
    }
   ],
   "source": [
    "valor1 = int(input('Digite um número inteiro: '))\n",
    "valor2 = int(input('Digite um número inteiro: '))\n",
    "\n",
    "if valor1 >= valor2:\n",
    "   print(' Valor1 é maior que Valor2:' , valor1)\n",
    "else:\n",
    "   print(' Valor2 é maior que Valor1:' , valor2)"
   ]
  },
  {
   "cell_type": "code",
   "execution_count": 64,
   "metadata": {},
   "outputs": [
    {
     "name": "stdout",
     "output_type": "stream",
     "text": [
      "O valor digitado é: 9 ele é Ímpar\n"
     ]
    }
   ],
   "source": [
    "valor1 = int(input('Digite um número inteiro: '))\n",
    "if (valor1 % 2 == 0):\n",
    "    print('O valor digitado é:',valor1 , 'ele é Par')\n",
    "else:\n",
    "     print('O valor digitado é:',valor1 , 'ele é Ímpar')"
   ]
  },
  {
   "cell_type": "code",
   "execution_count": 84,
   "metadata": {},
   "outputs": [
    {
     "name": "stdout",
     "output_type": "stream",
     "text": [
      "cupom inválido\n"
     ]
    }
   ],
   "source": [
    "cupom = input('Digite o cupom')\n",
    "if (cupom == 'aula1' or cupom == 'aula2'):\n",
    "    print('você ganhou 10% de desconto')\n",
    "else:\n",
    "      print('cupom inválido')  "
   ]
  },
  {
   "cell_type": "code",
   "execution_count": 88,
   "metadata": {},
   "outputs": [
    {
     "name": "stdout",
     "output_type": "stream",
     "text": [
      "você ganhou 15% de desconto\n"
     ]
    }
   ],
   "source": [
    "cupom = input('Digite o cupom')\n",
    "if (cupom == 'aula1' or cupom == 'aula2'):\n",
    "    print('você ganhou 15% de desconto')\n",
    "else:\n",
    "      print('você ganhou 5% de desconto')  "
   ]
  },
  {
   "cell_type": "code",
   "execution_count": null,
   "metadata": {},
   "outputs": [],
   "source": [
    "if():\n",
    "    print()\n",
    "  elif():\n",
    "    print()\n",
    "  else:\n",
    "    print()  "
   ]
  }
 ],
 "metadata": {
  "kernelspec": {
   "display_name": "venv",
   "language": "python",
   "name": "python3"
  },
  "language_info": {
   "codemirror_mode": {
    "name": "ipython",
    "version": 3
   },
   "file_extension": ".py",
   "mimetype": "text/x-python",
   "name": "python",
   "nbconvert_exporter": "python",
   "pygments_lexer": "ipython3",
   "version": "3.12.2"
  }
 },
 "nbformat": 4,
 "nbformat_minor": 2
}
