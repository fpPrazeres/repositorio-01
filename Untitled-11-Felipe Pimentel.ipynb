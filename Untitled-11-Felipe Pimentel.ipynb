{
 "cells": [
  {
   "cell_type": "code",
   "execution_count": 5,
   "metadata": {},
   "outputs": [
    {
     "name": "stdout",
     "output_type": "stream",
     "text": [
      "A letra digitada é uma consoante\n"
     ]
    }
   ],
   "source": [
    "letra = str(input('Digite uma letra:'))\n",
    "if (letra== \"a\" or letra== \"e\" or letra== \"i\" or letra== \"o\" or letra== \"u\"):\n",
    "    print(\"A letra digitada é uma vogal.\")\n",
    "else:\n",
    "    print(\"A letra digitada é uma consoante.\")"
   ]
  },
  {
   "cell_type": "code",
   "execution_count": 67,
   "metadata": {},
   "outputs": [
    {
     "name": "stdout",
     "output_type": "stream",
     "text": [
      "5 patinhos foram passear\n",
      "Além das montanhas para brincar\n",
      "A mamãe gritou: 'Quá, quá, quá, quá'\n",
      "Mas só  4 patinhos voltaram de lá.\n",
      "4 patinhos foram passear\n",
      "Além das montanhas para brincar\n",
      "A mamãe gritou: 'Quá, quá, quá, quá'\n",
      "Mas só  3 patinhos voltaram de lá.\n",
      "3 patinhos foram passear\n",
      "Além das montanhas para brincar\n",
      "A mamãe gritou: 'Quá, quá, quá, quá'\n",
      "Mas só  2 patinhos voltaram de lá.\n",
      "2 patinhos foram passear\n",
      "Além das montanhas para brincar\n",
      "A mamãe gritou: 'Quá, quá, quá, quá'\n",
      "Mas só  1 patinhos voltaram de lá.\n",
      "1 patinhos foram passear\n",
      "Além das montanhas para brincar\n",
      "A mamãe gritou: 'Quá, quá, quá, quá'\n",
      "Mas só  0 patinhos voltaram de lá.\n"
     ]
    }
   ],
   "source": [
    "patinhos =5\n",
    "while patinhos > 0:\n",
    "        print(patinhos, \"patinhos foram passear\")\n",
    "        print(\"Além das montanhas para brincar\")\n",
    "        print(\"A mamãe gritou: 'Quá, quá, quá, quá'\")\n",
    "        patinhos -= 1\n",
    "        print(\"Mas só \", patinhos, \"patinhos voltaram de lá.\")\n",
    "\n",
    "\n"
   ]
  },
  {
   "cell_type": "code",
   "execution_count": 80,
   "metadata": {},
   "outputs": [
    {
     "name": "stdout",
     "output_type": "stream",
     "text": [
      "A Taboada de  5 é: \n",
      "5 * 1 =  5\n",
      "5 * 2 =  10\n",
      "5 * 3 =  15\n",
      "5 * 4 =  20\n",
      "5 * 5 =  25\n",
      "5 * 6 =  30\n",
      "5 * 7 =  35\n",
      "5 * 8 =  40\n",
      "5 * 9 =  45\n",
      "5 * 10 =  50\n"
     ]
    }
   ],
   "source": [
    "#Taboada\n",
    "#digite um numero\n",
    "numero = int(input(\"Digite o numero\"))\n",
    "print(\"A Taboada de \", numero, \"é: \")\n",
    "for n in range(1, 11):\n",
    "    print(numero, \"*\", n,\"= \", numero * n)\n",
    "    n =+1"
   ]
  }
 ],
 "metadata": {
  "kernelspec": {
   "display_name": "Python 3",
   "language": "python",
   "name": "python3"
  },
  "language_info": {
   "codemirror_mode": {
    "name": "ipython",
    "version": 3
   },
   "file_extension": ".py",
   "mimetype": "text/x-python",
   "name": "python",
   "nbconvert_exporter": "python",
   "pygments_lexer": "ipython3",
   "version": "3.11.9"
  }
 },
 "nbformat": 4,
 "nbformat_minor": 2
}
