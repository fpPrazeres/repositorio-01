{
 "cells": [
  {
   "cell_type": "code",
   "execution_count": null,
   "metadata": {},
   "outputs": [],
   "source": [
    "salario = float(input(\"Digite o salário\"))\n",
    "codigo = float(input(\"Digite o código\"))\n",
    "cargo = str(input(\"Digite o cargo\"))\n",
    "print(\"Seu salário antigo é: \",salario)\n",
    "if (codigo == 101 or cargo == \"gerente\"):\n",
    " print(\"O novo salário é\", salario + ((salario*10)/100))\n",
    "elif (codigo == 102 or cargo == \"engenheiro\"):\n",
    " print(\"O novo salário é\", salario + ((salario*20)/100))\n",
    "elif (codigo == 103 or cargo == \"tecnico\"):\n",
    " print(\"O novo salário é\", salario + ((salario*30)/100))\n",
    "else:\n",
    " print(\"O novo salário é\", salario + ((salario*40)/100))"
   ]
  },
  {
   "cell_type": "code",
   "execution_count": null,
   "metadata": {},
   "outputs": [
    {
     "ename": "",
     "evalue": "",
     "output_type": "error",
     "traceback": [
      "\u001b[1;31mRunning cells with 'Python 3.11.9' requires the ipykernel package.\n",
      "\u001b[1;31mRun the following command to install 'ipykernel' into the Python environment. \n",
      "\u001b[1;31mCommand: 'c:/Users/Professor/AppData/Local/Microsoft/WindowsApps/python3.11.exe -m pip install ipykernel -U --user --force-reinstall'"
     ]
    }
   ],
   "source": [
    "ano = int(input(\"Digite o Ano do carro\"))\n",
    "preco = float(input(\"Digite o valor do carro\"))\n",
    "# Verifica se o carro foi fabricado antes ou depois de 1990\n",
    "if ano <= 1990:\n",
    "        taxa = 0.01  # Taxa de 1% para carros fabricados antes de 1990\n",
    "else:\n",
    "        taxa = 0.015  # Taxa de 1.5% para carros fabricados em 1990 ou depois\n",
    "    # Calcula o imposto com base no valor do carro e na taxa\n",
    "        imposto = preco * taxa\n",
    "    # Imprime o valor do imposto\n",
    "        print(\"O imposto de transferência a ser pago é de R$\",imposto)"
   ]
  }
 ],
 "metadata": {
  "kernelspec": {
   "display_name": "Python 3",
   "language": "python",
   "name": "python3"
  },
  "language_info": {
   "name": "python",
   "version": "3.11.9"
  }
 },
 "nbformat": 4,
 "nbformat_minor": 2
}
