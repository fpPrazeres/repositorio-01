{
 "cells": [
  {
   "cell_type": "code",
   "execution_count": 2,
   "metadata": {},
   "outputs": [
    {
     "name": "stdout",
     "output_type": "stream",
     "text": [
      "O valor digitado é: 4\n"
     ]
    }
   ],
   "source": [
    "valor1 = int(input('Digite um número inteiro: '))\n",
    "print('O valor digitado é:',valor1)\n"
   ]
  },
  {
   "cell_type": "code",
   "execution_count": 5,
   "metadata": {},
   "outputs": [
    {
     "name": "stdout",
     "output_type": "stream",
     "text": [
      "A soma dos valores digitado é: 8 + 9 = 17\n"
     ]
    }
   ],
   "source": [
    "valor1 = int(input('Digite um número inteiro: '))\n",
    "valor2 = int(input('Digite um número inteiro: '))\n",
    "soma = valor1 + valor2\n",
    "print('A soma dos valores digitado é:', valor1, \"+\" , valor2, \"=\", soma)\n"
   ]
  },
  {
   "cell_type": "code",
   "execution_count": 11,
   "metadata": {},
   "outputs": [
    {
     "name": "stdout",
     "output_type": "stream",
     "text": [
      " A média é:\n",
      "1º nota: 7\n",
      "2º nota: 5\n",
      "3º nota: 3\n",
      "A média das notas é: 5.0\n"
     ]
    }
   ],
   "source": [
    "nota1 = float(input('Digite a 1º nota: '))\n",
    "nota2 = float(input('Digite a 2º nota: '))\n",
    "nota3 = float(input('Digite a 3º nota: '))\n",
    "media = (nota1 + nota2 + nota3) / 3\n",
    "print(\" A média é:\")\n",
    "print(\"1º nota:\", nota1)\n",
    "print(\"2º nota:\", nota2)\n",
    "print(\"3º nota:\", nota3)\n",
    "print(\"A média das notas é:\", media)"
   ]
  },
  {
   "cell_type": "code",
   "execution_count": 13,
   "metadata": {},
   "outputs": [
    {
     "name": "stdout",
     "output_type": "stream",
     "text": [
      "O salario referido ao mês é: R$ 2450.0\n"
     ]
    }
   ],
   "source": [
    "valor01 = float(input(\"Informe o valor das horas trabalhadas: \"))\n",
    "valor02 = float(input(\"Informe a quantidades de horas trabalhadas no mês: \"))\n",
    "salario = valor01 * valor02\n",
    "print('O salario referido ao mês é:', \"R$\",salario)"
   ]
  },
  {
   "cell_type": "code",
   "execution_count": 18,
   "metadata": {},
   "outputs": [
    {
     "name": "stdout",
     "output_type": "stream",
     "text": [
      "Excesso de peso: 20.0 kg\n",
      "Valor da multa: R$  80.0\n"
     ]
    }
   ],
   "source": [
    "# Lê o peso de peixes informado pelo usuário\n",
    "peso_peixes = float(input(\"Digite o peso de peixes (em quilos): \"))\n",
    "# Define o limite estabelecido pelo regulamento (50 quilos)\n",
    "limite_peso = 50\n",
    "# Calcula o excesso de peso (se houver)\n",
    "excesso = peso_peixes - limite_peso\n",
    "# Verifica se há excesso\n",
    "if excesso > 0:\n",
    "    multa = excesso * 4\n",
    "    print(\"Excesso de peso:\", excesso , \"kg\")\n",
    "    print(\"Valor da multa: R$ \", multa )\n",
    "else:\n",
    "    print(\"Peso dentro do limite. Não há multa.\")"
   ]
  }
 ],
 "metadata": {
  "kernelspec": {
   "display_name": "Python 3",
   "language": "python",
   "name": "python3"
  },
  "language_info": {
   "codemirror_mode": {
    "name": "ipython",
    "version": 3
   },
   "file_extension": ".py",
   "mimetype": "text/x-python",
   "name": "python",
   "nbconvert_exporter": "python",
   "pygments_lexer": "ipython3",
   "version": "3.10.11"
  }
 },
 "nbformat": 4,
 "nbformat_minor": 2
}
