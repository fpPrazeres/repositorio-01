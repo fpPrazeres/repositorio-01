{
 "cells": [
  {
   "cell_type": "code",
   "execution_count": 42,
   "metadata": {},
   "outputs": [],
   "source": [
    "#criando uma classe\n",
    "class Animal():\n",
    "    #construtor da clasee\n",
    "    def  __init__(self, name, weight, color):\n",
    "        #atributos\n",
    "        self.nome = name\n",
    "        self.peso = weight\n",
    "        self.corDoPelo = color\n",
    "    def imprimirDados(self):\n",
    "        return (\"nome: %s \\nPeso: %s\" %(self.nome, self.peso))\n",
    "\n",
    "    def latir(self, barulho):\n",
    "        print(barulho)"
   ]
  },
  {
   "cell_type": "code",
   "execution_count": 43,
   "metadata": {},
   "outputs": [
    {
     "name": "stdout",
     "output_type": "stream",
     "text": [
      "nome: Marlene \n",
      "Peso: 7.9\n",
      "Au, Au!\n",
      "nome: Cibele \n",
      "Peso: 4.5\n",
      "Miau!\n"
     ]
    }
   ],
   "source": [
    "#Instanciando um objeto cachorro\n",
    "caozinho = Animal (\"Marlene\", 7.9, \"Caramelo\")\n",
    "gato = Animal (\"Cibele\", 4.5, \"Cinza\")\n",
    "\n",
    "#Chamando o método do objeto criado\n",
    "print(caozinho.imprimirDados())\n",
    "caozinho.latir(\"Au, Au!\")\n",
    "\n",
    "print(gato.imprimirDados())\n",
    "gato.latir(\"Miau!\")"
   ]
  },
  {
   "cell_type": "code",
   "execution_count": 44,
   "metadata": {},
   "outputs": [],
   "source": [
    "class Livro():\n",
    "    def __init__(self):\n",
    "        self.titulo = \"O Monge e o Executivo\"\n",
    "        self.isbn = 9988888\n",
    "        print(\"Construtor chamado para criar um objetivo desta classe\")\n",
    "    def imprimie(self):\n",
    "        print(\"Foi criado o Livro %s e ISBN %d\" %(self.titulo, self.isbn))"
   ]
  },
  {
   "cell_type": "code",
   "execution_count": 45,
   "metadata": {},
   "outputs": [
    {
     "name": "stdout",
     "output_type": "stream",
     "text": [
      "Construtor chamado para criar um objetivo desta classe\n"
     ]
    }
   ],
   "source": [
    "Livro1 = Livro()"
   ]
  },
  {
   "cell_type": "code",
   "execution_count": 46,
   "metadata": {},
   "outputs": [
    {
     "data": {
      "text/plain": [
       "__main__.Livro"
      ]
     },
     "execution_count": 46,
     "metadata": {},
     "output_type": "execute_result"
    }
   ],
   "source": [
    "type(Livro1)"
   ]
  },
  {
   "cell_type": "code",
   "execution_count": 47,
   "metadata": {},
   "outputs": [
    {
     "data": {
      "text/plain": [
       "'O Monge e o Executivo'"
      ]
     },
     "execution_count": 47,
     "metadata": {},
     "output_type": "execute_result"
    }
   ],
   "source": [
    "Livro1.titulo"
   ]
  },
  {
   "cell_type": "code",
   "execution_count": 48,
   "metadata": {},
   "outputs": [
    {
     "name": "stdout",
     "output_type": "stream",
     "text": [
      "Foi criado o Livro O Monge e o Executivo e ISBN 9988888\n"
     ]
    }
   ],
   "source": [
    "Livro1.imprimie()"
   ]
  },
  {
   "cell_type": "code",
   "execution_count": 53,
   "metadata": {},
   "outputs": [],
   "source": [
    "class Livro():\n",
    "    def __init__(self, titulo, isbn):\n",
    "        self.titulo = titulo\n",
    "        self.isbn = isbn\n",
    "    def imprimirDados1(self):\n",
    "       \n",
    "        print(\"Construtor chamado para criar um objetivo desta classe\")\n",
    "    def imprimie(self, titulo, ISBN):\n",
    "        print(\"Foi criado o Livro %s e ISBN %d\" %(titulo, isbn))"
   ]
  },
  {
   "cell_type": "code",
   "execution_count": 54,
   "metadata": {},
   "outputs": [],
   "source": [
    "Livro2 = Livro (\"A Menina que Roubava Livros\", 77886611)"
   ]
  },
  {
   "cell_type": "code",
   "execution_count": 55,
   "metadata": {},
   "outputs": [],
   "source": [
    "class Pessoa():\n",
    "    def __init__(self, name, age):\n",
    "        self.nome = name\n",
    "        self.idade = age\n",
    "    def nascimento(self, idade):\n",
    "        return(2022-idade)"
   ]
  },
  {
   "cell_type": "code",
   "execution_count": 56,
   "metadata": {},
   "outputs": [
    {
     "data": {
      "text/plain": [
       "1987"
      ]
     },
     "execution_count": 56,
     "metadata": {},
     "output_type": "execute_result"
    }
   ],
   "source": [
    "pessoa1 = Pessoa(\"Maria\", 35)\n",
    "pessoa1.nome\n",
    "pessoa1.idade\n",
    "pessoa1.nascimento(35)"
   ]
  },
  {
   "cell_type": "code",
   "execution_count": 58,
   "metadata": {},
   "outputs": [
    {
     "name": "stdout",
     "output_type": "stream",
     "text": [
      "Nome: Felipe, idade: 45 \n",
      "Nome: Vanessa, idade: 18 \n",
      "Nome: Emilly, idade: 23 \n",
      "Nome: Marcos, idade: 18 \n",
      "Nome: Priscilla, idade: 70 \n"
     ]
    }
   ],
   "source": [
    "listaDePessoas=[]\n",
    "for i in range(5):\n",
    "    nome = str(input(\"Nome: \"))\n",
    "    idade = int(input(\"Idade: \"))\n",
    "    pessoa = Pessoa(nome, idade)\n",
    "    listaDePessoas.append(pessoa)\n",
    "for objeto in range (len(listaDePessoas)):\n",
    "    print(\"Nome: %s, idade: %d \" %(listaDePessoas[objeto].nome, listaDePessoas[objeto].idade))"
   ]
  }
 ],
 "metadata": {
  "kernelspec": {
   "display_name": "Python 3",
   "language": "python",
   "name": "python3"
  },
  "language_info": {
   "codemirror_mode": {
    "name": "ipython",
    "version": 3
   },
   "file_extension": ".py",
   "mimetype": "text/x-python",
   "name": "python",
   "nbconvert_exporter": "python",
   "pygments_lexer": "ipython3",
   "version": "3.11.9"
  }
 },
 "nbformat": 4,
 "nbformat_minor": 2
}
